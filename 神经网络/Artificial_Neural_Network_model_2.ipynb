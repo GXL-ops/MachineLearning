{
 "cells": [
  {
   "cell_type": "markdown",
   "metadata": {
    "collapsed": true,
    "pycharm": {
     "is_executing": false,
     "name": "#%% md\n"
    }
   },
   "source": [
    "# MNIST数据集训练评估\n",
    "数据集有60 000个样本，每个图片都是28像素*28像素大小。每个像素将是训练时的特征值。\n",
    "\n",
    "使用全连接神经网络对MNIST数据集处理"
   ]
  },
  {
   "cell_type": "code",
   "execution_count": 1,
   "outputs": [
    {
     "name": "stderr",
     "text": [
      "WARNING: Logging before flag parsing goes to stderr.\nW1112 22:03:58.187894  4624 deprecation.py:323] From <ipython-input-1-d0bc52f92c82>:4: read_data_sets (from tensorflow.contrib.learn.python.learn.datasets.mnist) is deprecated and will be removed in a future version.\nInstructions for updating:\nPlease use alternatives such as official/mnist/dataset.py from tensorflow/models.\n",
      "W1112 22:03:58.191919  4624 deprecation.py:323] From D:\\ProgramData\\Anaconda3\\lib\\site-packages\\tensorflow\\contrib\\learn\\python\\learn\\datasets\\mnist.py:260: maybe_download (from tensorflow.contrib.learn.python.learn.datasets.base) is deprecated and will be removed in a future version.\nInstructions for updating:\nPlease write your own downloading logic.\n",
      "W1112 22:03:58.196871  4624 deprecation.py:323] From D:\\ProgramData\\Anaconda3\\lib\\site-packages\\tensorflow\\contrib\\learn\\python\\learn\\datasets\\base.py:252: _internal_retry.<locals>.wrap.<locals>.wrapped_fn (from tensorflow.contrib.learn.python.learn.datasets.base) is deprecated and will be removed in a future version.\nInstructions for updating:\nPlease use urllib or similar directly.\n",
      "W1112 22:13:33.811409  4624 deprecation.py:323] From D:\\ProgramData\\Anaconda3\\lib\\site-packages\\tensorflow\\contrib\\learn\\python\\learn\\datasets\\mnist.py:262: extract_images (from tensorflow.contrib.learn.python.learn.datasets.mnist) is deprecated and will be removed in a future version.\nInstructions for updating:\nPlease use tf.data to implement this functionality.\n",
      "W1112 22:13:35.701387  4624 deprecation.py:323] From D:\\ProgramData\\Anaconda3\\lib\\site-packages\\tensorflow\\contrib\\learn\\python\\learn\\datasets\\mnist.py:267: extract_labels (from tensorflow.contrib.learn.python.learn.datasets.mnist) is deprecated and will be removed in a future version.\nInstructions for updating:\nPlease use tf.data to implement this functionality.\n",
      "W1112 22:13:35.707369  4624 deprecation.py:323] From D:\\ProgramData\\Anaconda3\\lib\\site-packages\\tensorflow\\contrib\\learn\\python\\learn\\datasets\\mnist.py:110: dense_to_one_hot (from tensorflow.contrib.learn.python.learn.datasets.mnist) is deprecated and will be removed in a future version.\nInstructions for updating:\nPlease use tf.one_hot on tensors.\n",
      "W1112 22:13:36.869106  4624 deprecation.py:323] From D:\\ProgramData\\Anaconda3\\lib\\site-packages\\tensorflow\\contrib\\learn\\python\\learn\\datasets\\mnist.py:290: DataSet.__init__ (from tensorflow.contrib.learn.python.learn.datasets.mnist) is deprecated and will be removed in a future version.\nInstructions for updating:\nPlease use alternatives such as official/mnist/dataset.py from tensorflow/models.\n"
     ],
     "output_type": "stream"
    },
    {
     "name": "stdout",
     "text": [
      "Successfully downloaded train-images-idx3-ubyte.gz 9912422 bytes.\nExtracting MNIST_data\\train-images-idx3-ubyte.gz\n",
      "Successfully downloaded train-labels-idx1-ubyte.gz 28881 bytes.\nExtracting MNIST_data\\train-labels-idx1-ubyte.gz\n",
      "Successfully downloaded t10k-images-idx3-ubyte.gz 1648877 bytes.\nExtracting MNIST_data\\t10k-images-idx3-ubyte.gz\n",
      "Successfully downloaded t10k-labels-idx1-ubyte.gz 4542 bytes.\nExtracting MNIST_data\\t10k-labels-idx1-ubyte.gz\n",
      "number of train data is 55000\nnumber of test data is 10000\n"
     ],
     "output_type": "stream"
    }
   ],
   "source": [
    "import tensorflow as tf\n",
    "import numpy as np\n",
    "from tensorflow.examples.tutorials.mnist import input_data\n",
    "mnist = input_data.read_data_sets('MNIST_data', one_hot=True)\n",
    "print(\"number of train data is %d\"%(mnist.train.num_examples))\n",
    "print(\"number of test data is %d\"%(mnist.test.num_examples))\n",
    "trainimg=mnist.train.images\n",
    "trainlabel=mnist.train.labels\n",
    "testimg=mnist.test.images\n",
    "testlabel=mnist.test.labels"
   ],
   "metadata": {
    "collapsed": false,
    "pycharm": {
     "name": "#%%\n",
     "is_executing": false
    }
   }
  },
  {
   "cell_type": "markdown",
   "source": [
    "### 构建神经网络\n",
    "定义神经网络模型，神经网络模型定义可以分四步，构建输入层、隐层、输出层和定义损失函数。\n",
    "\n",
    "对于MNIST数据集来说，输入的是每一个图片文件，维度为28*28=784，定义如下\n",
    "x_=tf.placeholder(tf.float32,[None,784])\n",
    "\n",
    "对于隐层，将首先根据神经元节点的对应连接线的权重和偏置项进行如下处理：\n",
    "$ y=权重\\times x+偏置项 $\n",
    "然后经过激活函数的非线性化处理，得到输出向量。\n",
    "\n",
    "神经网络模型构造如下"
   ],
   "metadata": {
    "collapsed": false,
    "pycharm": {
     "name": "#%% md\n",
     "is_executing": false
    }
   }
  },
  {
   "cell_type": "code",
   "execution_count": 3,
   "outputs": [],
   "source": [
    "def add_layer(input,in_size,out_size,activation_function):\n",
    "    Weight=tf.Variable(tf.random_normal([in_size,out_size]))\n",
    "    biases=tf.Variable(tf.zeros([1,out_size]))\n",
    "    Wx_plus_b=tf.matmul(input,Weight)+biases\n",
    "    if activation_function is None:\n",
    "        outputs=Wx_plus_b\n",
    "    else:\n",
    "        outputs=activation_function(Wx_plus_b)\n",
    "    return outputs"
   ],
   "metadata": {
    "collapsed": false,
    "pycharm": {
     "name": "#%%\n",
     "is_executing": false
    }
   }
  },
  {
   "cell_type": "markdown",
   "source": [
    "- 在本例中，不使用隐层，直接从输入层到输出层。\n",
    "- 对于输出层，最终输出MNIST数据集中的0~9共10个分类，输出值的维度为10。\n",
    "- 对于损失函数，一般选取softmax交叉熵损失函数：\n",
    "tf.nn.softmax_cross_entropy_with_logits(logits,labels,name=None)\n",
    "\n",
    "其中，参数logits是输出层的输出向量，参数labels就是数据实际的标签值。\n",
    "softmax操作将逻辑回归中预测二分类的概率问题推广到n分类概率问题。"
   ],
   "metadata": {
    "collapsed": false
   }
  },
  {
   "cell_type": "code",
   "execution_count": 4,
   "outputs": [
    {
     "name": "stderr",
     "text": [
      "W1112 22:15:50.557821  4624 deprecation.py:323] From <ipython-input-4-40b2d2c1a483>:6: softmax_cross_entropy_with_logits (from tensorflow.python.ops.nn_ops) is deprecated and will be removed in a future version.\nInstructions for updating:\n\nFuture major versions of TensorFlow will allow gradients to flow\ninto the labels input on backprop by default.\n\nSee `tf.nn.softmax_cross_entropy_with_logits_v2`.\n\n"
     ],
     "output_type": "stream"
    }
   ],
   "source": [
    "x_=tf.placeholder(tf.float32,[None,784])\n",
    "y_=tf.placeholder(tf.float32,[None,10])\n",
    "# 没有隐层隐层\n",
    "predition=add_layer(x_,784,10,activation_function=None)\n",
    "# 损失函数\n",
    "cross_entropy=tf.reduce_mean(tf.nn.softmax_cross_entropy_with_logits(labels=y_,logits=predition))\n",
    "train_step=tf.train.GradientDescentOptimizer(0.5).minimize(cross_entropy)"
   ],
   "metadata": {
    "collapsed": false,
    "pycharm": {
     "name": "#%%\n",
     "is_executing": false
    }
   }
  },
  {
   "cell_type": "markdown",
   "source": [
    "### 进行数据训练\n",
    "总共迭代101次，每训练5次，输出一次损失值\n",
    "### 模型评估\n",
    "可以使用tf.grgmax(y,1)方法获取根据任意输入x预测到的标记值。将该值与实际值匹配，\n",
    "预测值转化为浮点数，取平均值得准确率。具体实现如下："
   ],
   "metadata": {
    "collapsed": false,
    "pycharm": {
     "name": "#%% md\n"
    }
   }
  },
  {
   "cell_type": "code",
   "execution_count": 10,
   "outputs": [
    {
     "name": "stdout",
     "text": [
      "Epoch:0/101 cost:1.059508 TEST ACCURACY:0.854800\n",
      "Epoch:5/101 cost:0.339368 TEST ACCURACY:0.894300\n",
      "Epoch:10/101 cost:0.282913 TEST ACCURACY:0.908200\n",
      "Epoch:15/101 cost:0.259557 TEST ACCURACY:0.913200\n",
      "Epoch:20/101 cost:0.244758 TEST ACCURACY:0.915300\n",
      "Epoch:25/101 cost:0.234983 TEST ACCURACY:0.918300\n",
      "Epoch:30/101 cost:0.225801 TEST ACCURACY:0.919700\n",
      "Epoch:35/101 cost:0.221336 TEST ACCURACY:0.920400\n",
      "Epoch:40/101 cost:0.217146 TEST ACCURACY:0.920200\n",
      "Epoch:45/101 cost:0.213415 TEST ACCURACY:0.919600\n",
      "Epoch:50/101 cost:0.211046 TEST ACCURACY:0.924000\n",
      "Epoch:55/101 cost:0.211933 TEST ACCURACY:0.920200\n",
      "Epoch:60/101 cost:0.209318 TEST ACCURACY:0.920500\n",
      "Epoch:65/101 cost:0.207227 TEST ACCURACY:0.922800\n",
      "Epoch:70/101 cost:0.205804 TEST ACCURACY:0.918700\n",
      "Epoch:75/101 cost:0.202467 TEST ACCURACY:0.917600\n",
      "Epoch:80/101 cost:0.200223 TEST ACCURACY:0.922700\n",
      "Epoch:85/101 cost:0.206777 TEST ACCURACY:0.923800\n",
      "Epoch:90/101 cost:0.199127 TEST ACCURACY:0.919600\n",
      "Epoch:95/101 cost:0.198192 TEST ACCURACY:0.921900\n",
      "Epoch:100/101 cost:0.198488 TEST ACCURACY:0.923500\n"
     ],
     "output_type": "stream"
    }
   ],
   "source": [
    "training_epochs=101\n",
    "# 每次迭代选择100个样本\n",
    "batch_size=100\n",
    "display_step=5\n",
    "init=tf.global_variables_initializer()\n",
    "with tf.Session() as sess:\n",
    "    sess.run(init)\n",
    "    for epoch in range(training_epochs):\n",
    "        # 训练过程\n",
    "        avg_cost=0.\n",
    "        num_batch=int(mnist.train.num_examples/batch_size)\n",
    "        for i in range(num_batch):\n",
    "            batch_xs,batch_ys=mnist.train.next_batch(batch_size)\n",
    "            sess.run(train_step,{x_:batch_xs,y_:batch_ys})\n",
    "            avg_cost+=sess.run(cross_entropy,{x_:batch_xs,y_:batch_ys})/num_batch\n",
    "        # 训练到一定程度后，用模型预测测试数据\n",
    "        if epoch%display_step==0:\n",
    "            correct_prediction=tf.equal(tf.argmax(predition,1),tf.argmax(y_,1))\n",
    "            accuracy=tf.reduce_mean(tf.cast(correct_prediction,tf.float32))\n",
    "            test_acc=sess.run(accuracy,\n",
    "                              feed_dict={x_:mnist.test.images,\n",
    "                                         y_:mnist.test.labels})\n",
    "            print(\"Epoch:%d/%d cost:%f TEST ACCURACY:%f\"%(epoch,\n",
    "                                                          training_epochs,\n",
    "                                                          avg_cost,\n",
    "                                                          test_acc))\n",
    "            "
   ],
   "metadata": {
    "collapsed": false,
    "pycharm": {
     "name": "#%%\n",
     "is_executing": false
    }
   }
  },
  {
   "cell_type": "markdown",
   "source": [
    "### 亦可以使用多层神经网络模型\n",
    "对于隐层，假设有256个神经元，使用relu函数作为激活函数，具体修改如下："
   ],
   "metadata": {
    "collapsed": false
   }
  },
  {
   "cell_type": "code",
   "execution_count": null,
   "outputs": [],
   "source": [
    "# 使用一个隐层\n",
    "n_input=784\n",
    "n_hidden_1=256\n",
    "n_classes=10\n",
    "l1=add_layer(x_,n_input,n_hidden_1,activation_function=tf.nn.relu)\n",
    "predition=add_layer(x_,n_hidden_1,n_classes,activation_function=None)"
   ],
   "metadata": {
    "collapsed": false,
    "pycharm": {
     "name": "#%%\n"
    }
   }
  }
 ],
 "metadata": {
  "language_info": {
   "codemirror_mode": {
    "name": "ipython",
    "version": 2
   },
   "file_extension": ".py",
   "mimetype": "text/x-python",
   "name": "python",
   "nbconvert_exporter": "python",
   "pygments_lexer": "ipython2",
   "version": "2.7.6"
  },
  "kernelspec": {
   "name": "python3",
   "language": "python",
   "display_name": "Python 3"
  },
  "pycharm": {
   "stem_cell": {
    "cell_type": "raw",
    "source": [],
    "metadata": {
     "collapsed": false
    }
   }
  }
 },
 "nbformat": 4,
 "nbformat_minor": 0
}