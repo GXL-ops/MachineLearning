{
 "cells": [
  {
   "cell_type": "markdown",
   "metadata": {
    "collapsed": true,
    "pycharm": {
     "is_executing": false,
     "name": "#%% md\n"
    }
   },
   "source": [
    " # 神经网络拟合线性回归问题\n",
    "构造满足y=3x+5关系的若干个点，并加入噪音"
   ]
  },
  {
   "cell_type": "code",
   "execution_count": 8,
   "outputs": [
    {
     "data": {
      "text/plain": "<Figure size 432x288 with 1 Axes>",
      "image/png": "[encoded data removed]"
     },
     "metadata": {
      "needs_background": "light"
     },
     "output_type": "display_data"
    }
   ],
   "source": [
    "import os\n",
    "os.environ['TF_CPP_MIN_LOG_LEVEL']='2'\n",
    "import tensorflow as tf\n",
    "import matplotlib.pyplot as plt\n",
    "import numpy as np\n",
    "# 生成x\n",
    "t_x=np.linspace(-1,1,50,dtype=np.float32)\n",
    "noise=np.random.normal(0,0.05,t_x.shape)\n",
    "t_y=3.0*t_x+5.0+noise\n",
    "plt.plot(t_x,t_y,'k.')\n",
    "plt.show()"
   ],
   "metadata": {
    "collapsed": false,
    "pycharm": {
     "name": "#%%\n",
     "is_executing": false
    }
   }
  },
  {
   "cell_type": "markdown",
   "source": [
    "### 构建神经网络\n",
    "定义神经网络模型，神经网络模型定义可以分四步，构建输入层、隐层、输出层和定义损失函数。"
   ],
   "metadata": {
    "collapsed": false,
    "pycharm": {
     "name": "#%% md\n",
     "is_executing": false
    }
   }
  },
  {
   "cell_type": "code",
   "execution_count": 11,
   "outputs": [],
   "source": [
    "def add_layer(input,in_size,out_size,activation_function):\n",
    "    Weight=tf.Variable(tf.random_normal([in_size,out_size]))\n",
    "    biases=tf.Variable(tf.zeros([1,out_size]))\n",
    "    Wx_plus_b=tf.matmul(input,Weight)+biases\n",
    "    if activation_function is None:\n",
    "        outputs=Wx_plus_b\n",
    "    else:\n",
    "        outputs=activation_function(Wx_plus_b)\n",
    "    return outputs"
   ],
   "metadata": {
    "collapsed": false,
    "pycharm": {
     "name": "#%%\n",
     "is_executing": false
    }
   }
  },
  {
   "cell_type": "markdown",
   "source": [
    "- 输入层用于数据的输入，无需进行操作。\n",
    "- 隐层用于神经网路中的第一次处理。输入的值为x，维度为1。输出值为神经网络的一次处理结果。假设隐层为10个节点，\n",
    "则输出值的维度为10，再激活函数上，通常选择ReLU函数。\n",
    "- 输出层用于神经网络的预测值，输入值为隐层的输出值，数据维度为10，最终的输出数据维度为1，在激活函数的选择\n",
    "上，不再使用激活函数，直接获取预测值。\n",
    "\n",
    "在误差损失函数的选择上，使用线性模型的最小化均方误差。\n"
   ],
   "metadata": {
    "collapsed": false
   }
  },
  {
   "cell_type": "code",
   "execution_count": 12,
   "outputs": [],
   "source": [
    "x=tf.placeholder(tf.float32,[None,1])\n",
    "y=tf.placeholder(tf.float32,[None,1])\n",
    "# 构建隐层\n",
    "l1=add_layer(x,1,10,activation_function=tf.nn.relu)\n",
    "# 构建输出层\n",
    "predition=add_layer(l1,10,1,activation_function=None)\n",
    "# 损失函数，reduction_indices表示求和的维度\n",
    "loss=tf.reduce_mean(tf.reduce_sum(tf.square(y-predition),reduction_indices=[1]))\n",
    "train_step=tf.train.GradientDescentOptimizer(0.1).minimize(loss)"
   ],
   "metadata": {
    "collapsed": false,
    "pycharm": {
     "name": "#%%\n",
     "is_executing": false
    }
   }
  },
  {
   "cell_type": "markdown",
   "source": [
    "### 进行数据训练\n",
    "总共训练1000次，每训练50次，输出一次损失值"
   ],
   "metadata": {
    "collapsed": false,
    "pycharm": {
     "name": "#%% md\n"
    }
   }
  },
  {
   "cell_type": "code",
   "execution_count": 21,
   "outputs": [
    {
     "name": "stdout",
     "text": [
      "49 0.011305768\n99 0.0026493454\n149 0.002083589\n199 0.002023399\n249",
      " 0.002001237\n299 0.00198337\n349 0.001967737\n399 0.0019479941\n449",
      " 0.0019287257\n499 0.0019208076\n549 0.001916038\n",
      "599 0.0019116581\n649 0.0019075902\n699 0.0019037944\n749 0.0019002281\n799",
      " 0.0018968788\n849 0.0018937141\n899 0.001890723\n",
      "949 0.0018878813\n999 0.0018851849\n"
     ],
     "output_type": "stream"
    }
   ],
   "source": [
    "# 训练模型\n",
    "t_x=t_x.reshape(50,1)\n",
    "t_y=t_y.reshape(50,1)\n",
    "init=tf.global_variables_initializer()\n",
    "with tf.Session() as sess:\n",
    "    sess.run(init)\n",
    "    for i in range(1000):\n",
    "        sess.run(train_step,feed_dict={x:t_x,y:t_y})\n",
    "        if (i+1)%50==0:\n",
    "            print(i,sess.run(loss,feed_dict={x:t_x,y:t_y}))"
   ],
   "metadata": {
    "collapsed": false,
    "pycharm": {
     "name": "#%%\n",
     "is_executing": false
    }
   }
  }
 ],
 "metadata": {
  "language_info": {
   "codemirror_mode": {
    "name": "ipython",
    "version": 2
   },
   "file_extension": ".py",
   "mimetype": "text/x-python",
   "name": "python",
   "nbconvert_exporter": "python",
   "pygments_lexer": "ipython2",
   "version": "2.7.6"
  },
  "kernelspec": {
   "name": "python3",
   "language": "python",
   "display_name": "Python 3"
  },
  "pycharm": {
   "stem_cell": {
    "cell_type": "raw",
    "source": [],
    "metadata": {
     "collapsed": false
    }
   }
  }
 },
 "nbformat": 4,
 "nbformat_minor": 0
}