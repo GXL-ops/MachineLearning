{
 "cells": [
  {
   "cell_type": "markdown",
   "metadata": {
    "collapsed": true,
    "pycharm": {
     "name": "#%% md\n"
    }
   },
   "source": [
    "# 文本映射\n",
    "### 词袋模型\n",
    "词袋模型将文本或文档看作一袋子单词，不考虑语法和词序的关系，每个单词\n",
    "都是独立的，对这袋子单词进行编码。例如，需要处理的语句是：\n",
    "\n",
    "<u>TensorFlow is a good tool for making machine learning easier.</u>\n",
    "\n",
    "将语句中出现的所有单词转换为对应的数字。首先构造所有单词的词典：\n",
    "\n",
    "{\n",
    "\n",
    "    \"TensorFlow\":1,\n",
    "    \"is\":2,\n",
    "    \"a\":3,\n",
    "    \"good\":4,\n",
    "    \"tool\":5,\n",
    "    \"for\":6,\n",
    "    \"making\":7,\n",
    "    \"machine\":8,\n",
    "    \"learning:9,\n",
    "    \"easier\":10\n",
    "    \n",
    "}\n",
    "\n",
    "之后使用该词典对语句进行编码（独热编码），如果词典中单词在语句中出现了，\n",
    "则单词中该位置索引被标识为1，上述语句标识为：\n",
    "\n",
    "[1,1,1,1,1,1,1,1,1,1]\n",
    "\n",
    "同理，对于新语句<u>Machine learning is a good tool for making data mining easier.</u>\n",
    "依照词典进行编码，表示为[0,1,1,1,1,1,1,1,1,1]\n"
   ]
  },
  {
   "cell_type": "markdown",
   "source": [
    "### 学写唐诗\n",
    "数据预处理，原始数据的清晰\n",
    "\n",
    "\n",
    "\n"
   ],
   "metadata": {
    "collapsed": false,
    "pycharm": {
     "name": "#%% md\n"
    }
   }
  }
 ],
 "metadata": {
  "language_info": {
   "codemirror_mode": {
    "name": "ipython",
    "version": 2
   },
   "file_extension": ".py",
   "mimetype": "text/x-python",
   "name": "python",
   "nbconvert_exporter": "python",
   "pygments_lexer": "ipython2",
   "version": "2.7.6"
  },
  "kernelspec": {
   "name": "python3",
   "language": "python",
   "display_name": "Python 3"
  },
  "pycharm": {
   "stem_cell": {
    "cell_type": "raw",
    "source": [],
    "metadata": {
     "collapsed": false
    }
   }
  }
 },
 "nbformat": 4,
 "nbformat_minor": 0
}