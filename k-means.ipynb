{
 "cells": [
  {
   "cell_type": "markdown",
   "metadata": {
    "collapsed": true,
    "pycharm": {
     "is_executing": false,
     "name": "#%% md\n"
    }
   },
   "source": [
    "# 无监督学习\n",
    "## K均值聚类算法(K-Means)\n",
    "通过K-Means算法对MNIST数据集中的图片进行类型标注"
   ]
  },
  {
   "cell_type": "code",
   "execution_count": 5,
   "outputs": [
    {
     "name": "stdout",
     "text": [
      "Extracting MNIST_data\\train-images-idx3-ubyte.gz\n",
      "Extracting MNIST_data\\train-labels-idx1-ubyte.gz\nExtracting MNIST_data\\t10k-images-idx3-ubyte.gz\nExtracting MNIST_data\\t10k-labels-idx1-ubyte.gz\n",
      "number of train data is 55000\nnumber of test data is 10000\n"
     ],
     "output_type": "stream"
    }
   ],
   "source": [
    "# 加载数据\n",
    "from collections import Counter\n",
    "from random import randint\n",
    "import tensorflow as tf\n",
    "import numpy as np\n",
    "from tensorflow.examples.tutorials.mnist import input_data\n",
    "mnist = input_data.read_data_sets('MNIST_data', one_hot=True)\n",
    "print(\"number of train data is %d\"%(mnist.train.num_examples))\n",
    "print(\"number of test data is %d\"%(mnist.test.num_examples))\n",
    "# 使用训练集的图片数据作为输入数据\n",
    "# shape(55000,784)\n",
    "X=mnist.train.images\n",
    "# 样本数目\n",
    "N=mnist.train.num_examples"
   ],
   "metadata": {
    "collapsed": false,
    "pycharm": {
     "name": "#%%\n",
     "is_executing": false
    }
   }
  },
  {
   "cell_type": "markdown",
   "source": [
    "### 实现K均值聚类算法\n",
    "\n",
    "对于MNIST数据集来说，最终被分为0~9一共10类，因此K值取10"
   ],
   "metadata": {
    "collapsed": false,
    "pycharm": {
     "name": "#%% md\n",
     "is_executing": false
    }
   }
  },
  {
   "cell_type": "code",
   "execution_count": 2,
   "outputs": [
    {
     "name": "stderr",
     "text": [
      "W1115 11:07:25.460860 12592 deprecation.py:323] From <ipython-input-2-b8e6a17e4a75>:6: Variable.initialized_value (from tensorflow.python.ops.variables) is deprecated and will be removed in a future version.\nInstructions for updating:\nUse Variable.read_value. Variables in 2.X are initialized automatically both in eager and graph (inside tf.defun) contexts.\n"
     ],
     "output_type": "stream"
    }
   ],
   "source": [
    "k=10\n",
    "# 最大迭代次数\n",
    "MAX_ITERS=100\n",
    "# 对于初始质心的选取，是在样本数据的边界通过随机选取的方式来实现的\n",
    "start_pos=tf.Variable(X[np.random.randint(X.shape[0],size=k),:],dtype=tf.float32)\n",
    "centroids=tf.Variable(start_pos.initialized_value(),'S',dtype=tf.float32)\n",
    "# 输入值\n",
    "points=tf.Variable(X,'X',dtype=tf.float32)\n",
    "ones_like=tf.ones((points.get_shape()[0],1))\n",
    "prev_assignments=tf.Variable(tf.zeros((points.get_shape()[0],),dtype=tf.int64))\n",
    "# 获取距离\n",
    "p1=tf.matmul(\n",
    "    tf.expand_dims(tf.reduce_sum(tf.square(points),1),1),\n",
    "    tf.ones(shape=(1,k))\n",
    ")\n",
    "p2=tf.transpose(tf.matmul(\n",
    "    tf.reshape(tf.reduce_sum(tf.square(centroids),1),shape=[-1,1]),\n",
    "    ones_like,\n",
    "    transpose_b=True\n",
    "))\n",
    "# 计算距离\n",
    "distance=tf.sqrt(tf.add(p1,p2)-2*tf.matmul(points,centroids,transpose_b=True))\n",
    "# 划分该点的簇\n",
    "point_to_centroid_assignment=tf.argmin(distance,axis=1)\n",
    "# 计算均值\n",
    "total=tf.unsorted_segment_sum(points,point_to_centroid_assignment,k)\n",
    "count=tf.unsorted_segment_sum(ones_like,point_to_centroid_assignment,k)\n",
    "means=total/count\n",
    "# 中心店是否变化\n",
    "is_continue=tf.reduce_any(tf.not_equal(point_to_centroid_assignment,prev_assignments))\n",
    "# 循环迭代\n",
    "with tf.control_dependencies([is_continue]):\n",
    "    loop=tf.group(centroids.assign(means),prev_assignments.assign(point_to_centroid_assignment))"
   ],
   "metadata": {
    "collapsed": false,
    "pycharm": {
     "name": "#%%\n",
     "is_executing": false
    }
   }
  },
  {
   "cell_type": "markdown",
   "source": [
    "### 进行数据训练"
   ],
   "metadata": {
    "collapsed": false
   }
  },
  {
   "cell_type": "code",
   "execution_count": 3,
   "outputs": [
    {
     "name": "stdout",
     "text": [
      "1\n2\n",
      "3\n4\n",
      "5\n6\n",
      "7\n8\n",
      "9\n10\n",
      "11\n",
      "12\n13\n",
      "14\n",
      "15\n16\n",
      "17\n",
      "18\n19\n",
      "20\n21\n",
      "22\n23\n",
      "24\n25\n",
      "26\n27\n",
      "28\n",
      "29\n30\n",
      "31\n",
      "32\n33\n",
      "34\n",
      "35\n36\n",
      "37\n",
      "38\n39\n",
      "40\n",
      "41\n42\n",
      "43\n44\n",
      "45\n46\n",
      "47\n48",
      "\n49\n",
      "50\n51\n",
      "52\n",
      "53\n54\n",
      "55\n",
      "56\n57\n",
      "58\n59\n",
      "60\n",
      "61\n62\n",
      "63\n",
      "64\n65\n",
      "66\n67",
      "\n68\n",
      "69\n70\n",
      "71\n72\n",
      "73\n74\n",
      "75\n76\n",
      "77\n78\n",
      "79\n80\n",
      "81\n82\n",
      "83\n84\n",
      "85\n86\n",
      "87\n88\n",
      "89\n90\n",
      "91\n92\n",
      "93\n94\n",
      "95\n96\n",
      "97\n98\n",
      "99\n100\nTrain finished.\n"
     ],
     "output_type": "stream"
    }
   ],
   "source": [
    "with tf.Session() as sess:\n",
    "    sess.run(tf.global_variables_initializer())\n",
    "    changed=True\n",
    "    iterNum=0\n",
    "    while changed and iterNum < MAX_ITERS:\n",
    "        iterNum+=1\n",
    "        # 数据训练\n",
    "        [changed,_]=sess.run([is_continue,loop])\n",
    "        res=sess.run(point_to_centroid_assignment)\n",
    "        print(iterNum)\n",
    "    print(\"Train finished.\")"
   ],
   "metadata": {
    "collapsed": false,
    "pycharm": {
     "name": "#%%\n",
     "is_executing": false
    }
   }
  },
  {
   "cell_type": "markdown",
   "source": [
    "### 模型评估\n",
    "对每一个簇中的样本正确的标签进行统计，显示数量排在前三的标签及对应数量"
   ],
   "metadata": {
    "collapsed": false
   }
  },
  {
   "cell_type": "code",
   "execution_count": 7,
   "outputs": [
    {
     "name": "stdout",
     "text": [
      "[(3, 3679), (5, 1669), (8, 1071)]\n[(7, 2449), (9, 1441), (4, 1416)]\n[(8, 3165), (5, 1279), (3, 983)]\n[(1, 2673), (5, 645), (2, 514)]\n[(4, 2044), (9, 1495), (7, 604)]\n[(7, 2220), (9, 2158), (4, 1391)]\n[(1, 3459), (3, 339), (6, 288)]\n[(6, 4516), (2, 3454), (4, 151)]\n[(0, 2295), (5, 253), (2, 153)]\n[(0, 2609), (6, 80), (5, 54)]\n"
     ],
     "output_type": "stream"
    }
   ],
   "source": [
    "# 记录训练集的真实标签数据，为测试号准备率\n",
    "y_=mnist.train.labels\n",
    "y=[]\n",
    "for m in range(N):\n",
    "    for n in range(10):\n",
    "        if y_[m][n]==1:\n",
    "            y.append(n)\n",
    "\n",
    "# 评估。获取每个簇所有的点，按照真实标签的前三数量显示\n",
    "nums_in_clusters=[[] for i in range(10)]\n",
    "for i in range(N):\n",
    "    nums_in_clusters[res[i]].append(y[i])\n",
    "for i in range(10):\n",
    "    print(Counter(nums_in_clusters[i]).most_common(3))\n"
   ],
   "metadata": {
    "collapsed": false,
    "pycharm": {
     "name": "#%% \n",
     "is_executing": false
    }
   }
  }
 ],
 "metadata": {
  "language_info": {
   "codemirror_mode": {
    "name": "ipython",
    "version": 2
   },
   "file_extension": ".py",
   "mimetype": "text/x-python",
   "name": "python",
   "nbconvert_exporter": "python",
   "pygments_lexer": "ipython2",
   "version": "2.7.6"
  },
  "kernelspec": {
   "name": "python3",
   "language": "python",
   "display_name": "Python 3"
  },
  "pycharm": {
   "stem_cell": {
    "cell_type": "raw",
    "source": [],
    "metadata": {
     "collapsed": false
    }
   }
  }
 },
 "nbformat": 4,
 "nbformat_minor": 0
}