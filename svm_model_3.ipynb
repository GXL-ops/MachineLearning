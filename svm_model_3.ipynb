{
 "cells": [
  {
   "cell_type": "markdown",
   "metadata": {
    "collapsed": true,
    "pycharm": {
     "is_executing": false,
     "name": "#%% md\n"
    }
   },
   "source": [
    "# 非线性二值分布\n",
    "通过高斯分布对非线性数据进行分类，区分是否为某种花\n",
    "\n",
    "实验数据有四个属性，用0,1,2表示三种花。"
   ]
  },
  {
   "cell_type": "code",
   "execution_count": 9,
   "outputs": [],
   "source": [
    "import tensorflow as tf\n",
    "import matplotlib.pyplot as plt\n",
    "import numpy as np\n",
    "from sklearn import datasets\n",
    "from tensorflow.python.framework import ops\n",
    "ops.reset_default_graph()\n",
    "from pylab import mpl\n",
    "mpl.rcParams['font.sans-serif']=['SimHei']\n",
    "# 加载iris数据集，将花萼长度和花萼宽度两个特征保存在x_vals，将标签存入y_val\n",
    "iris=datasets.load_iris()\n",
    "x_vals=np.array([[x[0],x[1]] for x in iris.data])\n",
    "y_val=np.array([1 if y==0 else -1 for y in iris.target])\n",
    "# # 将数据按照是否为山鸢尾分为两类，便于后期制图\n",
    "class1_x=[x[0] for i,x in enumerate(x_vals) if y_val[i]==1]\n",
    "class1_y=[x[1] for i,x in enumerate(x_vals) if y_val[i]==1]\n",
    "class2_x=[x[0] for i,x in enumerate(x_vals) if y_val[i]==-1]\n",
    "class2_y=[x[1] for i,x in enumerate(x_vals) if y_val[i]==-1]"
   ],
   "metadata": {
    "collapsed": false,
    "pycharm": {
     "name": "#%%\n",
     "is_executing": false
    }
   }
  },
  {
   "cell_type": "markdown",
   "source": [
    "使用高斯核函数SVM来完成非线性任务，高斯核函数表达式为：\n",
    "\n",
    "$$ K(x_i,x_j)=exp(-\\frac{||x_i-x_j||^2}{2\\sigma^2}) $$\n",
    "\n",
    "而相应的损失函数使用对偶优化，其表达式为：\n",
    "\n",
    "$$ max\\sum_{i=1}^nb_i-\\frac{1}{2}\\sum_{i=1}^n\\sum_{j=1}^ny_ib_i(x_i\\cdot x_j)y_jb_j, $$\n",
    "$$ 其中：\\sum_{i=1}^nb_iy_i=0 且0\\leq b_i\\leq \\frac{1}{sny} $$"
   ],
   "metadata": {
    "collapsed": false,
    "pycharm": {
     "name": "#%% md\n",
     "is_executing": false
    }
   }
  },
  {
   "cell_type": "code",
   "execution_count": 10,
   "outputs": [],
   "source": [
    "# 定义训练模型\n",
    "batch_size=100\n",
    "x_data=tf.placeholder(shape=[None,2],dtype=tf.float32)\n",
    "y_target=tf.placeholder(shape=[None,1],dtype=tf.float32)\n",
    "prediction_grid=tf.placeholder(shape=[None,2],dtype=tf.float32)\n",
    "b=tf.Variable(tf.random_normal(shape=[1,batch_size]))\n",
    "# 高斯核函数只依赖x_data\n",
    "gamma=tf.constant(-10.0)\n",
    "dist=tf.reduce_sum(tf.square(x_data),1)\n",
    "dist=tf.reshape(dist,[-1,1])\n",
    "sq_dists=tf.multiply(2.,tf.matmul(x_data,tf.transpose(x_data)))\n",
    "# 高斯核函数\n",
    "my_kernel=tf.exp(tf.multiply(gamma,tf.abs(sq_dists)))\n",
    "# 损失函数分别计算前后两部分\n",
    "model_output=tf.matmul(b,my_kernel)\n",
    "first_term=tf.reduce_sum(b)\n",
    "b_vec_cross=tf.matmul(tf.transpose(b),b)\n",
    "y_target_cross=tf.matmul(y_target,tf.transpose(y_target))\n",
    "second_term=tf.reduce_sum(tf.multiply(my_kernel,tf.multiply(b_vec_cross,y_target_cross)))\n",
    "# 损失函数被最小化，对计算公式取负数\n",
    "loss=tf.negative(tf.subtract(first_term,second_term))\n",
    "my_opt=tf.train.GradientDescentOptimizer(0.01)\n",
    "train_step=my_opt.minimize(loss)"
   ],
   "metadata": {
    "collapsed": false,
    "pycharm": {
     "name": "#%%\n",
     "is_executing": false
    }
   }
  },
  {
   "cell_type": "code",
   "execution_count": 11,
   "outputs": [
    {
     "name": "stdout",
     "text": [
      "The step: 19 -16.944471\nThe step: 39 -36.944458\n",
      "The step: 59 -56.944443\nThe step: 79 -76.94443\nThe step: 99 -96.94441\nThe step: 119 -116.9444\nThe step: 139 -136.9444\nThe step:",
      " 159 -156.94438\nThe step: 179 -176.94438\nThe step: 199 -196.94437\nThe step: 219 -216.94438\n",
      "The step: 239 -236.94441\nThe step: 259 -256.94446\nThe step: 279 -276.9445\nThe step: 299 -296.94455\n"
     ],
     "output_type": "stream"
    }
   ],
   "source": [
    "# 进行数据训练\n",
    "# 预测核函数\n",
    "rA=tf.reshape(tf.reduce_sum(tf.square(x_data),1),[-1,1])\n",
    "rB=tf.reshape(tf.reduce_sum(tf.square(prediction_grid),1),[-1,1])\n",
    "pred_sq_dist=tf.add(tf.subtract(rA,tf.multiply(2.,tf.matmul(x_data,tf.transpose(prediction_grid)))),tf.transpose(rB))\n",
    "pred_kernel=tf.exp(tf.multiply(gamma,tf.abs(pred_sq_dist)))\n",
    "# 实现预测核函数后，创建预测核函数\n",
    "prediction_output=tf.matmul(tf.multiply(tf.transpose(y_target),b),pred_kernel)\n",
    "prediction=tf.sign(prediction_output-tf.reduce_mean(prediction_output))\n",
    "accuracy=tf.reduce_mean(tf.cast(tf.equal(tf.squeeze(prediction),tf.squeeze(y_target)),tf.float32))\n",
    "init=tf.global_variables_initializer()\n",
    "with tf.Session() as sess:\n",
    "    sess.run(init)\n",
    "    for i in range(300):\n",
    "        rand_index=np.random.choice(len(x_vals),size=batch_size)\n",
    "        rand_x=x_vals[rand_index]\n",
    "        rand_y=np.transpose([y_val[rand_index]])\n",
    "        sess.run(train_step,feed_dict={x_data:rand_x,y_target:rand_y})\n",
    "        temp_loss=sess.run(loss,feed_dict={x_data:rand_x,y_target:rand_y})\n",
    "        if (i+1)%20==0:\n",
    "            print(\"The step:\",i,str(temp_loss))\n"
   ],
   "metadata": {
    "collapsed": false,
    "pycharm": {
     "name": "#%%\n",
     "is_executing": false
    }
   }
  },
  {
   "cell_type": "code",
   "execution_count": 13,
   "outputs": [
    {
     "data": {
      "text/plain": "<Figure size 432x288 with 1 Axes>",
      "image/png": "[encoded data removed]"
     },
     "metadata": {
      "needs_background": "light"
     },
     "output_type": "display_data"
    }
   ],
   "source": [
    "# 运行总结\n",
    "# 依据真实数据集，标记绘图范围\n",
    "x_min,x_max=x_vals[:,0].min()-1,x_vals[:,0].max()+1\n",
    "y_min,y_max=x_vals[:,1].min()-1,x_vals[:,1].max()+1\n",
    "xx,yy=np.meshgrid(np.arange(x_min,x_max,0.02),\n",
    "                  np.arange(y_min,y_max,0.02))\n",
    "# 获取模型预测结果标识\n",
    "grid_points=np.c_[xx.ravel(),yy.ravel()]\n",
    "with tf.Session() as sess:\n",
    "    sess.run(init)\n",
    "    grid_predictions=sess.run(prediction,\n",
    "                              feed_dict={x_data:rand_x,\n",
    "                                         y_target:rand_y,\n",
    "                                         prediction_grid:grid_points})\n",
    "    grid_predictions=grid_predictions.reshape(xx.shape)\n",
    "    # 绘制图形\n",
    "    plt.contourf(xx,yy,grid_predictions,cmap=plt.cm.Paired,alpha=0.8)\n",
    "    plt.plot(class1_x,class1_y,'ro')\n",
    "    plt.plot(class2_x,class2_y,'kx')\n",
    "    plt.ylim([1,5.0])\n",
    "    plt.xlim([3.5,8.5])\n",
    "    plt.show()"
   ],
   "metadata": {
    "collapsed": false,
    "pycharm": {
     "name": "#%%\n",
     "is_executing": false
    }
   }
  }
 ],
 "metadata": {
  "language_info": {
   "codemirror_mode": {
    "name": "ipython",
    "version": 2
   },
   "file_extension": ".py",
   "mimetype": "text/x-python",
   "name": "python",
   "nbconvert_exporter": "python",
   "pygments_lexer": "ipython2",
   "version": "2.7.6"
  },
  "kernelspec": {
   "name": "python3",
   "language": "python",
   "display_name": "Python 3"
  },
  "pycharm": {
   "stem_cell": {
    "cell_type": "raw",
    "source": [],
    "metadata": {
     "collapsed": false
    }
   }
  }
 },
 "nbformat": 4,
 "nbformat_minor": 0
}