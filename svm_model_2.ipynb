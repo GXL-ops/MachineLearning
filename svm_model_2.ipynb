{
 "cells": [
  {
   "cell_type": "markdown",
   "metadata": {
    "collapsed": true,
    "pycharm": {
     "is_executing": false,
     "name": "#%% md\n"
    }
   },
   "source": [
    "# 拟合逻辑回归\n",
    "支持向量机就是希望找到满足分类条件$$ y_i(\\omega^Tx+b)\\geq 1 $$并且将间距$$ ||\\omega||^2 $$最大化的超平面，损失函数如下\n",
    "\n",
    "$$ \\frac{1}{n}\\sum_{i=1}^n max(0,1-y_i(\\omega^Tx+b))+a||\\omega||^2 $$\n",
    "\n",
    "当数据点正确分隔时，$$ y_i(\\omega^Tx+b) $$总大于1，所以左项取值最大值为0。损失函数只与间距大小有关。a值越大，模型就回倾向于尽量将样本分隔开；a值越小，就会有更多的无差点存在。\n",
    "\n",
    "构造满足$$ x_1*2+x_2 $$小于或等于1标记为0；大于1，标记为1，同时进行随机噪音化"
   ]
  },
  {
   "cell_type": "code",
   "execution_count": 11,
   "outputs": [
    {
     "data": {
      "text/plain": "<Figure size 432x288 with 1 Axes>",
      "image/png": "[encoded data removed]"
     },
     "metadata": {
      "needs_background": "light"
     },
     "output_type": "display_data"
    }
   ],
   "source": [
    "import os\n",
    "os.environ['TF_CPP_MIN_LOG_LEVEL']='2'\n",
    "import tensorflow as tf\n",
    "import matplotlib.pyplot as plt\n",
    "import numpy as np\n",
    "# 声明数据和标签\n",
    "data=[]\n",
    "label=[]\n",
    "np.random.seed(0)\n",
    "# 随机产生训练集\n",
    "for i in range(150):\n",
    "    x1=np.random.uniform(-1,1)\n",
    "    x2=np.random.uniform(0,2)\n",
    "    if x1*2+x2<=2:\n",
    "        data.append([np.random.normal(x1,0.1),np.random.normal(x2,0.1)])\n",
    "        label.append(0)\n",
    "        plt.plot(x1,x2,'go')\n",
    "    else:\n",
    "        data.append([np.random.normal(x1,0.1),np.random.normal(x2,0.1)])\n",
    "        label.append(1)\n",
    "        plt.plot(x1,x2,'r*')\n",
    "# 绘制图像\n",
    "data=np.hstack(data).reshape(-1,2)\n",
    "label=np.hstack(label).reshape(-1,1)\n",
    "plt.show()\n",
    "\n"
   ],
   "metadata": {
    "collapsed": false,
    "pycharm": {
     "name": "#%%\n",
     "is_executing": false
    }
   }
  },
  {
   "cell_type": "code",
   "execution_count": 12,
   "outputs": [],
   "source": [
    "# 定义训练模型\n",
    "learning_rate=0.01\n",
    "training_epochs=4000\n",
    "# 定义变量\n",
    "x=tf.placeholder(tf.float32,shape=(None,2))\n",
    "y_=tf.placeholder(tf.float32,shape=(None,1))\n",
    "W=tf.Variable(tf.zeros([2,1]))\n",
    "b=tf.Variable(tf.zeros([1]))\n",
    "# 线性平面\n",
    "y=(tf.matmul(x,W)+b)\n",
    "# 计算L2范数即权重的平方和，防止过拟合\n",
    "l2_norm=tf.reduce_sum(tf.square(W))\n",
    "# 损失函数\n",
    "alpha=tf.constant([0.1])\n",
    "classification_term=tf.reduce_mean(tf.maximum(0.,tf.subtract(1.,tf.multiply(y,y_))))\n",
    "cross_entropy=tf.add(classification_term,tf.multiply(alpha,l2_norm))\n",
    "# 优化器\n",
    "cost_prev=0\n",
    "train_step=tf.train.GradientDescentOptimizer(learning_rate).minimize(cross_entropy)"
   ],
   "metadata": {
    "collapsed": false,
    "pycharm": {
     "name": "#%%\n",
     "is_executing": false
    }
   }
  },
  {
   "cell_type": "code",
   "execution_count": 13,
   "outputs": [
    {
     "name": "stdout",
     "text": [
      "0 [array([[0.00160499],\n       [0.00358394]], dtype=float32), array([0.00246667], dtype=float32), array([0.9978511], dtype=float32)]\n",
      "200 [array([[0.1981399 ],\n       [0.39041376]], dtype=float32), array([0.37119916], dtype=float32), array([0.7816467], dtype=float32)]\n",
      "400 [array([[0.20450166],\n       [0.34616038]], dtype=float32), array([0.49106786], dtype=float32), array([0.77294195], dtype=float32)]\n",
      "600 [array([[0.18456757],\n       [0.28551087]], dtype=float32), array([0.57206905], dtype=float32), array([0.76760393], dtype=float32)]\n",
      "800 [array([[0.1679685 ],\n       [0.23919068]], dtype=float32), array([0.6470682], dtype=float32), array([0.7635564], dtype=float32)]\n",
      "1000 [array([[0.15066704],\n       [0.19620746]], dtype=float32), array([0.708399], dtype=float32), array([0.76059765], dtype=float32)]\n",
      "1200 [array([[0.13810942],\n       [0.15968801]], dtype=float32), array([0.76266617], dtype=float32), array([0.7583747], dtype=float32)]\n",
      "1400 [array([[0.12105697],\n       [0.12925601]], dtype=float32), array([0.80606246], dtype=float32), array([0.75679773], dtype=float32)]\n",
      "1600 [array([[0.10594289],\n       [0.10566813]], dtype=float32), array([0.8438581], dtype=float32), array([0.755682], dtype=float32)]\n",
      "1800 [array([[0.09110036],\n       [0.0834204 ]], dtype=float32), array([0.87232447], dtype=float32), array([0.75491726], dtype=float32)]\n",
      "the step: 1946 [array([[0.07949783],\n       [0.0717597 ]], dtype=float32), array([0.8895887], dtype=float32), array([0.75452685], dtype=float32)]\n"
     ],
     "output_type": "stream"
    }
   ],
   "source": [
    "# 数据训练\n",
    "loss_vec=[]\n",
    "with tf.Session() as sess:\n",
    "    sess.run(tf.global_variables_initializer())\n",
    "    for i in range(training_epochs):\n",
    "        sess.run(train_step,feed_dict={x:data,y_:label})\n",
    "        train_cost=sess.run(cross_entropy,feed_dict={x:data,y_:label})\n",
    "        loss_vec.append(train_cost)\n",
    "        if i% 200==0:\n",
    "            print(i,sess.run([W,b,cross_entropy],{x:data,y_:label}))\n",
    "        if np.abs(cost_prev-train_cost) < 1e-6:\n",
    "            print(\"the step:\",i,sess.run([W,b,cross_entropy],{x:data,y_:label}))\n",
    "            break\n",
    "        else:\n",
    "            cost_prev=train_cost\n",
    "        \n",
    "    # 记录最终的w和b\n",
    "    W_val=sess.run(W)\n",
    "    b_val=sess.run(b)"
   ],
   "metadata": {
    "collapsed": false,
    "pycharm": {
     "name": "#%%\n",
     "is_executing": false
    }
   }
  },
  {
   "cell_type": "code",
   "execution_count": 14,
   "outputs": [
    {
     "data": {
      "text/plain": "<Figure size 432x288 with 1 Axes>",
      "image/png": "[encoded data removed]"
     },
     "metadata": {
      "needs_background": "light"
     },
     "output_type": "display_data"
    }
   ],
   "source": [
    "# 运行总结\n",
    "w1=W_val[0][0]\n",
    "w2=W_val[1][0]\n",
    "k=-w1/w2\n",
    "b=b_val\n",
    "xx=np.linspace(-1,1.2,100)\n",
    "yy=k*xx+b\n",
    "plt.plot(xx,yy,'r-')\n",
    "for i in range(150):\n",
    "    if label[i]==0:\n",
    "        plt.plot(data[i][0],data[i][1],\"go\")\n",
    "    else:\n",
    "        plt.plot(data[i][0],data[i][1],\"b*\")\n",
    "plt.show()\n"
   ],
   "metadata": {
    "collapsed": false,
    "pycharm": {
     "name": "#%%\n",
     "is_executing": false
    }
   }
  },
  {
   "cell_type": "markdown",
   "source": [
    "如果一个问题的训练集中有大量特征，建议使用逻辑回归；如果训练集的数据量更大或者数据集是线性可分的，建议使用带核函数的SVM算法。"
   ],
   "metadata": {
    "collapsed": false
   }
  }
 ],
 "metadata": {
  "language_info": {
   "codemirror_mode": {
    "name": "ipython",
    "version": 2
   },
   "file_extension": ".py",
   "mimetype": "text/x-python",
   "name": "python",
   "nbconvert_exporter": "python",
   "pygments_lexer": "ipython2",
   "version": "2.7.6"
  },
  "kernelspec": {
   "name": "python3",
   "language": "python",
   "display_name": "Python 3"
  },
  "pycharm": {
   "stem_cell": {
    "cell_type": "raw",
    "source": [],
    "metadata": {
     "collapsed": false
    }
   }
  }
 },
 "nbformat": 4,
 "nbformat_minor": 0
}