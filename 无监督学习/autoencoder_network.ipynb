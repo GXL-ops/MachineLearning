{
 "cells": [
  {
   "cell_type": "markdown",
   "metadata": {
    "collapsed": true,
    "pycharm": {
     "is_executing": false,
     "name": "#%% md\n"
    }
   },
   "source": [
    "# 无监督学习\n",
    "## 自编码网络\n",
    "自编码器是一种试图还原原始输入的系统，由编码器(Encoder)和解码器(Decoder)两部分组成\n"
   ]
  },
  {
   "cell_type": "code",
   "execution_count": null,
   "outputs": [],
   "source": [
    "# 加载数据\n",
    "from collections import Counter\n",
    "from random import randint\n",
    "import tensorflow as tf\n",
    "import numpy as np\n",
    "from tensorflow.examples.tutorials.mnist import input_data\n",
    "mnist = input_data.read_data_sets('MNIST_data', one_hot=True)\n",
    "print(\"number of train data is %d\"%(mnist.train.num_examples))\n",
    "print(\"number of test data is %d\"%(mnist.test.num_examples))\n",
    "# 使用训练集的图片数据作为输入数据\n",
    "# shape(55000,784)\n",
    "X=mnist.train.images\n",
    "# 样本数目\n",
    "N=mnist.train.num_examples"
   ],
   "metadata": {
    "collapsed": false,
    "pycharm": {
     "name": "#%%\n",
     "is_executing": true
    }
   }
  },
  {
   "cell_type": "code",
   "execution_count": 3,
   "outputs": [
    {
     "name": "stderr",
     "text": [
      "W1124 21:42:46.001410  8252 deprecation.py:323] From D:\\ProgramData\\Anaconda3\\lib\\site-packages\\tensorflow\\python\\ops\\math_grad.py:1205: add_dispatch_support.<locals>.wrapper (from tensorflow.python.ops.array_ops) is deprecated and will be removed in a future version.\nInstructions for updating:\nUse tf.where in 2.0, which has the same broadcast rule as np.where\n",
      "W1124 21:42:46.242766  8252 deprecation.py:506] From D:\\ProgramData\\Anaconda3\\lib\\site-packages\\tensorflow\\python\\training\\rmsprop.py:119: calling Ones.__init__ (from tensorflow.python.ops.init_ops) with dtype is deprecated and will be removed in a future version.\nInstructions for updating:\nCall initializer instance with the dtype argument instead of passing it to the constructor\n"
     ],
     "output_type": "stream"
    }
   ],
   "source": [
    "x_=tf.placeholder(tf.float32,[None,784])\n",
    "# 网络模型，两个隐层\n",
    "n_hidden1=256\n",
    "n_hidden2=128\n",
    "n_input=784\n",
    "# 初始化权重\n",
    "weights={\n",
    "    'encoder_h1':tf.Variable(tf.random_normal([n_input,n_hidden1])),\n",
    "    'encoder_h2':tf.Variable(tf.random_normal([n_hidden1,n_hidden2])),\n",
    "    'decoder_h1':tf.Variable(tf.random_normal([n_hidden2,n_hidden1])),\n",
    "    'decoder_h2':tf.Variable(tf.random_normal([n_hidden1,n_input]))\n",
    "}\n",
    "# 初始化偏置项\n",
    "biases={\n",
    "    'encoder_b1':tf.Variable(tf.random_normal([n_hidden1])),\n",
    "    'encoder_b2':tf.Variable(tf.random_normal([n_hidden2])),\n",
    "    'decoder_b1':tf.Variable(tf.random_normal([n_hidden1])),\n",
    "    'decoder_b2':tf.Variable(tf.random_normal([n_input]))\n",
    "}\n",
    "# 编码函数\n",
    "def encoder(x):\n",
    "    layer1=tf.nn.sigmoid(tf.add(tf.matmul(x,weights['encoder_h1']),biases['encoder_b1']))\n",
    "    layer2=tf.nn.sigmoid(tf.add(tf.matmul(layer1,weights['encoder_h2']),biases['encoder_b2']))\n",
    "    return layer2\n",
    "# 解码函数\n",
    "def decoder(x):\n",
    "    layer1=tf.nn.sigmoid(tf.add(tf.matmul(x,weights['decoder_h1']),biases['decoder_b1']))\n",
    "    layer2=tf.nn.sigmoid(tf.add(tf.matmul(layer1,weights['decoder_h2']),biases['decoder_b2']))\n",
    "    return layer2\n",
    "# 构建模型\n",
    "encoder_op=encoder(x_)\n",
    "decoder_op=decoder(encoder_op)\n",
    "# 预测值\n",
    "y_pred=decoder_op\n",
    "# 真实值\n",
    "y_true=x_\n",
    "# 损失预测\n",
    "learning_rate=0.01\n",
    "cost=tf.reduce_mean(tf.pow(y_true-y_pred,2))\n",
    "optimizer=tf.train.RMSPropOptimizer(learning_rate).minimize(cost)"
   ],
   "metadata": {
    "collapsed": false,
    "pycharm": {
     "name": "#%%\n",
     "is_executing": false
    }
   }
  },
  {
   "cell_type": "code",
   "execution_count": null,
   "outputs": [
    {
     "name": "stdout",
     "text": [
      "0 cost= 0.14613855\n",
      "5 cost= 0.09700409\n",
      "10 cost= 0.08303446\n",
      "15 cost= 0.07470346\n",
      "20 cost= 0.07011139\n",
      "25 cost= 0.06256354\n",
      "30 cost= 0.059097115\n",
      "35 cost= 0.057144973\n"
     ],
     "output_type": "stream"
    }
   ],
   "source": [
    "# 训练模型\n",
    "training_epochs=40\n",
    "batch_size=100\n",
    "display_step=5\n",
    "init=tf.global_variables_initializer()\n",
    "with tf.Session() as sess:\n",
    "    sess.run(init)\n",
    "    total_batch=int(mnist.train.num_examples/batch_size)\n",
    "    for epoch in range(training_epochs):\n",
    "        for i in range(total_batch):\n",
    "            batch_xs,batch_ys=mnist.train.next_batch(batch_size)\n",
    "            _,c=sess.run([optimizer,cost],feed_dict={x_:batch_xs})\n",
    "        if epoch % display_step==0:\n",
    "            print(epoch,\"cost=\",c)\n",
    "    print(\"train Finished\")\n"
   ],
   "metadata": {
    "collapsed": false,
    "pycharm": {
     "name": "#%%\n",
     "is_executing": true
    }
   }
  },
  {
   "cell_type": "code",
   "execution_count": 1,
   "outputs": [
    {
     "traceback": [
      "\u001b[1;31m---------------------------------------------------------------------------\u001b[0m",
      "\u001b[1;31mNameError\u001b[0m                                 Traceback (most recent call last)",
      "\u001b[1;32m<ipython-input-1-92ede5043b1a>\u001b[0m in \u001b[0;36m<module>\u001b[1;34m\u001b[0m\n\u001b[0;32m      1\u001b[0m \u001b[1;32mimport\u001b[0m \u001b[0mmatplotlib\u001b[0m\u001b[1;33m.\u001b[0m\u001b[0mpyplot\u001b[0m \u001b[1;32mas\u001b[0m \u001b[0mplt\u001b[0m\u001b[1;33m\u001b[0m\u001b[1;33m\u001b[0m\u001b[0m\n\u001b[0;32m      2\u001b[0m \u001b[1;31m# 评估模型\u001b[0m\u001b[1;33m\u001b[0m\u001b[1;33m\u001b[0m\u001b[1;33m\u001b[0m\u001b[0m\n\u001b[1;32m----> 3\u001b[1;33m \u001b[1;32mwith\u001b[0m \u001b[0mtf\u001b[0m\u001b[1;33m.\u001b[0m\u001b[0mSession\u001b[0m\u001b[1;33m(\u001b[0m\u001b[1;33m)\u001b[0m \u001b[1;32mas\u001b[0m \u001b[0msess\u001b[0m\u001b[1;33m:\u001b[0m\u001b[1;33m\u001b[0m\u001b[1;33m\u001b[0m\u001b[0m\n\u001b[0m\u001b[0;32m      4\u001b[0m     \u001b[0msess\u001b[0m\u001b[1;33m.\u001b[0m\u001b[0mrun\u001b[0m\u001b[1;33m(\u001b[0m\u001b[0minit\u001b[0m\u001b[1;33m)\u001b[0m\u001b[1;33m\u001b[0m\u001b[1;33m\u001b[0m\u001b[0m\n\u001b[0;32m      5\u001b[0m     \u001b[0mencoder_decode\u001b[0m\u001b[1;33m=\u001b[0m\u001b[0msess\u001b[0m\u001b[1;33m.\u001b[0m\u001b[0mrun\u001b[0m\u001b[1;33m(\u001b[0m\u001b[0my_pred\u001b[0m\u001b[1;33m,\u001b[0m\u001b[0mfeed_dict\u001b[0m\u001b[1;33m=\u001b[0m\u001b[1;33m{\u001b[0m\u001b[0mx_\u001b[0m\u001b[1;33m:\u001b[0m\u001b[0mmnist\u001b[0m\u001b[1;33m.\u001b[0m\u001b[0mtest\u001b[0m\u001b[1;33m.\u001b[0m\u001b[0mimages\u001b[0m\u001b[1;33m[\u001b[0m\u001b[1;33m:\u001b[0m\u001b[1;36m10\u001b[0m\u001b[1;33m]\u001b[0m\u001b[1;33m}\u001b[0m\u001b[1;33m)\u001b[0m\u001b[1;33m\u001b[0m\u001b[1;33m\u001b[0m\u001b[0m\n",
      "\u001b[1;31mNameError\u001b[0m: name 'tf' is not defined"
     ],
     "ename": "NameError",
     "evalue": "name 'tf' is not defined",
     "output_type": "error"
    }
   ],
   "source": [
    "import matplotlib.pyplot as plt\n",
    "# 评估模型\n",
    "with tf.Session() as sess:\n",
    "    sess.run(init)\n",
    "    encoder_decode=sess.run(y_pred,feed_dict={x_:mnist.test.images[:10]})\n",
    "# 比较结果\n",
    "f,a=plt.subplots(2,10,figsize=(10,2))\n",
    "for i in range(10):\n",
    "    # 绘制数据本身\n",
    "    a[0][i].imshow(np.reshape(mnist.test.images[i],(28,28)))\n",
    "    a[1][i].imshow(np.reshape(encoder_decode[i],(28,28)))\n",
    "f.show()\n",
    "plt.draw()"
   ],
   "metadata": {
    "collapsed": false,
    "pycharm": {
     "name": "#%%\n",
     "is_executing": false
    }
   }
  },
  {
   "cell_type": "code",
   "execution_count": null,
   "outputs": [],
   "source": [
    "\n"
   ],
   "metadata": {
    "collapsed": false,
    "pycharm": {
     "name": "#%%\n"
    }
   }
  }
 ],
 "metadata": {
  "language_info": {
   "codemirror_mode": {
    "name": "ipython",
    "version": 2
   },
   "file_extension": ".py",
   "mimetype": "text/x-python",
   "name": "python",
   "nbconvert_exporter": "python",
   "pygments_lexer": "ipython2",
   "version": "2.7.6"
  },
  "kernelspec": {
   "name": "python3",
   "language": "python",
   "display_name": "Python 3"
  },
  "pycharm": {
   "stem_cell": {
    "cell_type": "raw",
    "source": [],
    "metadata": {
     "collapsed": false
    }
   }
  }
 },
 "nbformat": 4,
 "nbformat_minor": 0
}