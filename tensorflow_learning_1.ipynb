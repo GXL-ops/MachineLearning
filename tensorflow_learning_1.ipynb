{
 "cells": [
  {
   "cell_type": "code",
   "execution_count": 3,
   "metadata": {
    "collapsed": true,
    "pycharm": {
     "is_executing": false
    }
   },
   "outputs": [
    {
     "name": "stdout",
     "text": [
      "Tensor(\"Add_2:0\", shape=(), dtype=float32)\n17.0\n"
     ],
     "output_type": "stream"
    }
   ],
   "source": [
    "import tensorflow as tf\n",
    "# 创建图\n",
    "a=tf.constant(3,tf.float32)\n",
    "b=tf.constant(4,tf.float32)\n",
    "c=tf.constant(5,tf.float32)\n",
    "y=tf.add(a*b,c)\n",
    "print(y)\n",
    "# 创建会话\n",
    "sess=tf.Session()\n",
    "# 计算\n",
    "print(sess.run(y))\n",
    "sess.close()"
   ]
  },
  {
   "cell_type": "code",
   "execution_count": 6,
   "outputs": [
    {
     "name": "stdout",
     "text": [
      "zero_tsr\n [[0. 0. 0. 0.]\n [0. 0. 0. 0.]\n [0. 0. 0. 0.]]\nones_tsr\n [[1. 1. 1. 1.]\n [1. 1. 1. 1.]\n [1. 1. 1. 1.]]\nfiled_tsr\n [[2. 2. 2. 2.]\n [2. 2. 2. 2.]\n [2. 2. 2. 2.]]\nconstant_tsr\n [1 2 3]\nzeros_similar\n [0 0 0]\nones_similar\n [1 1 1]\nliner_tsr\n [0. 1. 2.]\ninteger_seq_str\n [0 1 2 3 4]\nrandunif_tsr\n [[1.4259689  0.37850404 0.84241104 0.5221157 ]\n [0.36498904 0.06476641 1.7287757  0.36150217]\n [0.96472526 0.12623    0.68332624 1.2501032 ]]\nrandnorm_tsr\n [[ 0.4377336  -1.4419373  -0.40701997 -1.1973467 ]\n [ 1.2521363   0.18835638  0.88597554  1.0891105 ]\n [-0.3281451   0.25674996 -1.894375   -2.043175  ]]\nruncnorm_tsr\n [[ 0.6346457  -1.8268919   0.8246625  -0.43811774]\n [ 1.428973    0.98842525 -0.19038568  0.53833437]\n [ 0.56912357  0.24580796 -0.4616332  -1.9631107 ]]\n"
     ],
     "output_type": "stream"
    }
   ],
   "source": [
    "# Tensor概述\n",
    "import tensorflow as tf\n",
    "row=3.0\n",
    "col=4.0\n",
    "# 值为0，指定维度的张量\n",
    "zero_tsr=tf.zeros([row,col])\n",
    "# 值为1，指定维度的张量\n",
    "ones_tsr=tf.ones([row,col])\n",
    "# 指定填充数值2.0\n",
    "filed_tsr=tf.fill([3,4],2.0)\n",
    "# 已知常数张量\n",
    "constant_tsr=tf.constant([1,2,3])\n",
    "# 所有元素为0，与constant_tsr类型已知的张量\n",
    "zeros_similar=tf.zeros_like(constant_tsr)\n",
    "# 所有元素为1，与constant_tsr类型已知的张量\n",
    "ones_similar=tf.ones_like(constant_tsr)\n",
    "# 创建指定区间，等间距的张量\n",
    "liner_tsr=tf.linspace(start=0.0,stop=2.0,num=3)\n",
    "# 创建指定区间，间距的张量\n",
    "# 该数字序列开始于 start 并且将以 delta 为增量扩展到不包括 limit 时的最大值结束，类似python的range函数。\n",
    "integer_seq_str=tf.range(start=0,limit=5,delta=1)\n",
    "# 创建均匀分布随机数的张量\n",
    "randunif_tsr=tf.random_uniform([3,4],minval=0,maxval=2)\n",
    "# 创建正态分布随机数的张量\n",
    "# mean: 正态分布的均值，默认为0;\n",
    "# stddev: 正态分布的标准差，默认为1.0;\n",
    "# dtype: 输出的类型，默认为tf.float32;\n",
    "# seed: 随机数种子，是一个整数，当设置之后，每次生成的随机数都一样; \n",
    "# 操作的名称;\n",
    "randnorm_tsr=tf.random_normal([3,4],mean=0.0,stddev=1.0)\n",
    "# 创建指定边界的正态分布张量\n",
    "# 这是一个截断的产生正太分布的函数，就是说产生正太分布的值如果与均值的差值大于两倍的标准差，那就重新生成。\n",
    "# 和一般的正太分布的产生随机数据比起来，这个函数产生的随机数与均值的差距不会超过两倍的标准差，但是一般的别的函数是可能的。\n",
    "runcnorm_tsr=tf.truncated_normal([3,4],mean=0.0,stddev=1.0)\n",
    "\n",
    "# 创建会话\n",
    "sess=tf.Session()\n",
    "# 计算\n",
    "print(\"zero_tsr\\n\",sess.run(zero_tsr))\n",
    "print(\"ones_tsr\\n\",sess.run(ones_tsr))\n",
    "print(\"filed_tsr\\n\",sess.run(filed_tsr))\n",
    "print(\"constant_tsr\\n\",sess.run(constant_tsr))\n",
    "print(\"zeros_similar\\n\",sess.run(zeros_similar))\n",
    "print(\"ones_similar\\n\",sess.run(ones_similar))\n",
    "print(\"liner_tsr\\n\",sess.run(liner_tsr))\n",
    "print(\"integer_seq_str\\n\",sess.run(integer_seq_str))\n",
    "print(\"randunif_tsr\\n\",sess.run(randunif_tsr))\n",
    "print(\"randnorm_tsr\\n\",sess.run(randnorm_tsr))\n",
    "print(\"runcnorm_tsr\\n\",sess.run(runcnorm_tsr))\n",
    "sess.close()"
   ],
   "metadata": {
    "collapsed": false,
    "pycharm": {
     "name": "#%%\n",
     "is_executing": false
    }
   }
  },
  {
   "cell_type": "code",
   "execution_count": 9,
   "outputs": [
    {
     "name": "stdout",
     "text": [
      "tensor is [[0. 0.]]\nm_var second is [[0. 0.]]\n"
     ],
     "output_type": "stream"
    }
   ],
   "source": [
    "# Variable，通过调整这些变量优化机器学习\n",
    "# 应该使用tf.Variable()函数，通过输入一个张量，返回一个变量。变量声明后需要进行初始化才能使用\n",
    "tensor=tf.zeros([1,2])\n",
    "# 声明变量\n",
    "m_var=tf.Variable(tensor)\n",
    "init_op=tf.global_variables_initializer()\n",
    "with tf.Session() as sess:\n",
    "    print('tensor is',sess.run(tensor))\n",
    "    # print('m_var first is',sess.run(m_var))\n",
    "    sess.run(init_op)\n",
    "    print('m_var second is',sess.run(m_var))"
   ],
   "metadata": {
    "collapsed": false,
    "pycharm": {
     "name": "#%%\n",
     "is_executing": false
    }
   }
  },
  {
   "cell_type": "code",
   "execution_count": 13,
   "outputs": [
    {
     "name": "stdout",
     "text": [
      "[[array([11., 13.], dtype=float32)]]\n"
     ],
     "output_type": "stream"
    }
   ],
   "source": [
    "# Placeholder\n",
    "# 用于表示输入输出数据的格式，允许传入指定类型和形状的数据。占位符仅仅声明了数据位置\n",
    "x=tf.placeholder(tf.float32)\n",
    "y=tf.placeholder(tf.float32)\n",
    "z=tf.add(x,y)\n",
    "with tf.Session() as sess:\n",
    "    # feed_dict的作用是给使用placeholder创建出来的tensor赋值\n",
    "    print(sess.run([[z]],feed_dict={x:[1.0,2.0],y:[10.0,11.0]}))"
   ],
   "metadata": {
    "collapsed": false,
    "pycharm": {
     "name": "#%%\n",
     "is_executing": false
    }
   }
  },
  {
   "cell_type": "markdown",
   "source": [
    "# operation\n",
    "operation是tensorFlow图中的节点，他的输入输出都是Tensor。它用于完成各种操作，包括运算操作、矩阵操作和神经网络构建操作等。主要操作如下表所示\n",
    "\n",
    "|操作组|操作|\n",
    "|-|-|\n",
    "数学运算操作|Add、Sub、Mul、Div、Exp、Log、Greater、Less、Equal\n",
    "数组运算操作|Concat、Slice、Split、Constant、Rank、Shape、Shuffle\n",
    "矩阵运算操作|MatMul、MatrixInverse、MatrixDeterminant\n",
    "神经网络构建操作|Softmax、Sigmoid、ReLU、Convolution2D、MaxPool\n",
    "检查点操作|Save、Restore\n",
    "队列和同步操作|Enqueue、Dequeue、MutexAcquire、MutexRelease\n",
    "张量控制操作|Merge、Switch、Enter、Leave、NextIteration"
   ],
   "metadata": {
    "collapsed": false
   }
  },
  {
   "cell_type": "markdown",
   "source": [
    "# Queue\n",
    "Queue主要包含入列(enqueue)和出列(dequeue)两个操作。enqueue操作返回计算图中的一个Operation节点，dequeue操作返回一个Tensor值，需要放在Session中运行才可以获取真正的数值\n",
    "\n",
    "|顺序出列|FIFOQueue\n",
    "|-|-|\n",
    "随机顺序出列的队列|RandomShuffleQueue"
   ],
   "metadata": {
    "collapsed": false,
    "pycharm": {
     "name": "#%% md\n"
    }
   }
  },
  {
   "cell_type": "code",
   "execution_count": 15,
   "outputs": [
    {
     "name": "stdout",
     "text": [
      "q 5.0\nq 2.0\nq 3.0\nq 4.0\nq 1.0\nq 6.0\n"
     ],
     "output_type": "stream"
    }
   ],
   "source": [
    "import tensorflow as tf\n",
    "# 声明顺序队列或随机顺序出列的队列\n",
    "# q=tf.FIFOQueue(10,\"float\")\n",
    "# 最大长度10,最小长度2,类型float的随机队列\n",
    "q=tf.RandomShuffleQueue(capacity=10, min_after_dequeue=0, dtypes=\"float\")\n",
    "init=q.enqueue_many(([1.0,2.0,3.0,4.0,5.0,6.0],))\n",
    "with tf.Session() as sess:\n",
    "    sess.run(init)\n",
    "    queue=sess.run(q.size())\n",
    "    for i in range(queue):\n",
    "        print('q',sess.run(q.dequeue()))"
   ],
   "metadata": {
    "collapsed": false,
    "pycharm": {
     "name": "#%%\n",
     "is_executing": false
    }
   }
  },
  {
   "cell_type": "markdown",
   "source": [
    "对于一个队列长度为10，出队后最小长度为2的队列，实现如下"
   ],
   "metadata": {
    "collapsed": false,
    "pycharm": {
     "name": "#%% md\n"
    }
   }
  },
  {
   "cell_type": "code",
   "execution_count": 4,
   "outputs": [
    {
     "name": "stdout",
     "text": [
      "q 4.0\nq 6.0\nq 1.0\nq 3.0\nq 5.0\nq 2.0\n"
     ],
     "output_type": "stream"
    }
   ],
   "source": [
    "import tensorflow as tf\n",
    "# 声明顺序队列或随机顺序出列的队列\n",
    "# q=tf.FIFOQueue(10,\"float\")\n",
    "# 最大长度10,最小长度2,类型float的随机队列\n",
    "q=tf.RandomShuffleQueue(capacity=10, min_after_dequeue=0, dtypes=\"float\")\n",
    "init=q.enqueue_many(([1.0,2.0,3.0,4.0,5.0,6.0],))\n",
    "# 定义3s超时\n",
    "run_options=tf.RunOptions(timeout_in_ms=10000)\n",
    "with tf.Session() as sess:\n",
    "    sess.run(init)\n",
    "    queue=sess.run(q.size())\n",
    "    for i in range(queue):\n",
    "        try:\n",
    "            print('q''''''',sess.run(q.dequeue(), options=run_options))\n",
    "        except tf.errors.DeadlineExceededError:\n",
    "            print(\"Timeout\")"
   ],
   "metadata": {
    "collapsed": false,
    "pycharm": {
     "name": "#%%\n",
     "is_executing": false
    }
   }
  },
  {
   "cell_type": "markdown",
   "source": [
    "# QueueRunner\n",
    "QueueRunner即队列管理器，包括CPU、GPU、内存以及读取数据时计算机使用的其他硬件资源。\n",
    "\n",
    "创建QueueRunner需要使用方法tf.train.QueueRunner._init_(queue,enqueue_ops)。enqueue_ops表示指定操作，一般是多个操作，每个操作都是一个线程。\n",
    "\n",
    "使用方法tf.train.QueueRunner.create_threads(sess,coord=None,daemon=False,start=False)来完成线程的创建\n",
    "\n",
    "例如：创建一个队列管理器，进行两个操作。一个操作完成计数器的自增，另一个操作将计数器的值入队。"
   ],
   "metadata": {
    "collapsed": false,
    "pycharm": {
     "name": "#%% md\n"
    }
   }
  },
  {
   "cell_type": "code",
   "execution_count": 5,
   "outputs": [
    {
     "name": "stderr",
     "text": [
      "WARNING: Logging before flag parsing goes to stderr.\nW1111 22:04:22.075101 13096 deprecation.py:323] From <ipython-input-5-dc418428c5c6>:10: QueueRunner.__init__ (from tensorflow.python.training.queue_runner_impl) is deprecated and will be removed in a future version.\nInstructions for updating:\nTo construct input pipelines, use the `tf.data` module.\n",
      "E1111 22:04:22.349248 11712 queue_runner_impl.py:275] Exception in QueueRunner: Enqueue operation was cancelled\n\t [[{{node fifo_queue_enqueue}}]]\n",
      "E1111 22:04:22.366203 12400 queue_runner_impl.py:275] Exception in QueueRunner: Run call was cancelled\n"
     ],
     "output_type": "stream"
    },
    {
     "name": "stdout",
     "text": [
      "0.0\n6.0\n15.0\n22.0\n32.0\n45.0\n53.0\n60.0\n"
     ],
     "output_type": "stream"
    }
   ],
   "source": [
    "import tensorflow as tf\n",
    "# 声明顺序队列或随机顺序出列的队列\n",
    "q=tf.FIFOQueue(10,\"float\")\n",
    "counter=tf.Variable(0.0)\n",
    "# 给计数器+1\n",
    "increment_op=tf.assign_add(counter,1.0)\n",
    "# 将计数器加入队列\n",
    "enqueue_op=q.enqueue(counter)\n",
    "# 创建两个操作的进程，*1表示一个操作拥有一个线程\n",
    "qr=tf.train.QueueRunner(q,enqueue_ops=[increment_op,enqueue_op]*1)\n",
    "with tf.Session() as sess:\n",
    "    sess.run(tf.global_variables_initializer())\n",
    "    qr.create_threads(sess,start=True)\n",
    "    for i in range(8):\n",
    "        print(sess.run(q.dequeue()))"
   ],
   "metadata": {
    "collapsed": false,
    "pycharm": {
     "name": "#%%\n",
     "is_executing": false
    }
   }
  },
  {
   "cell_type": "markdown",
   "source": [
    "# Coordinator\n",
    "Coordinator处理线程间的同步\n",
    "\n",
    "在线程创建时，指定一个协调器，当主线程完成操作后，使用Coordinator.request_stop()方法，通知所有线程停止当前线程，并等待其他线程结束后返回结果。具体实现如下："
   ],
   "metadata": {
    "collapsed": false,
    "pycharm": {
     "name": "#%% md\n"
    }
   }
  },
  {
   "cell_type": "code",
   "execution_count": 6,
   "outputs": [
    {
     "name": "stdout",
     "text": [
      "4.0\n15.0\n23.0\n31.0\n40.0\n49.0\n59.0\n72.0\n"
     ],
     "output_type": "stream"
    }
   ],
   "source": [
    "import tensorflow as tf\n",
    "# 声明顺序队列或随机顺序出列的队列\n",
    "q=tf.FIFOQueue(10,\"float\")\n",
    "counter=tf.Variable(0.0)\n",
    "# 给计数器+1\n",
    "increment_op=tf.assign_add(counter,1.0)\n",
    "# 将计数器加入队列\n",
    "enqueue_op=q.enqueue(counter)\n",
    "coord=tf.train.Coordinator()\n",
    "# 创建两个操作的进程，*1表示一个操作拥有一个线程\n",
    "qr=tf.train.QueueRunner(q,enqueue_ops=[increment_op,enqueue_op]*1)\n",
    "with tf.Session() as sess:\n",
    "    sess.run(tf.global_variables_initializer())\n",
    "    # 对进程指定协调器\n",
    "    queue_thread=qr.create_threads(sess,coord=coord,start=True)\n",
    "    for i in range(8):\n",
    "        print(sess.run(q.dequeue()))\n",
    "    # 通知线程关闭\n",
    "    coord.request_stop()\n",
    "    # 等待线程结束\n",
    "    coord.join(queue_thread)\n"
   ],
   "metadata": {
    "collapsed": false,
    "pycharm": {
     "name": "#%%\n",
     "is_executing": false
    }
   }
  }
 ],
 "metadata": {
  "language_info": {
   "codemirror_mode": {
    "name": "ipython",
    "version": 2
   },
   "file_extension": ".py",
   "mimetype": "text/x-python",
   "name": "python",
   "nbconvert_exporter": "python",
   "pygments_lexer": "ipython2",
   "version": "2.7.6"
  },
  "kernelspec": {
   "name": "python3",
   "language": "python",
   "display_name": "Python 3"
  },
  "pycharm": {
   "stem_cell": {
    "cell_type": "raw",
    "source": [],
    "metadata": {
     "collapsed": false
    }
   }
  }
 },
 "nbformat": 4,
 "nbformat_minor": 0
}