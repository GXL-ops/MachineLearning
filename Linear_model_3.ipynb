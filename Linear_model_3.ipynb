{
 "cells": [
  {
   "cell_type": "code",
   "execution_count": 10,
   "metadata": {
    "collapsed": true,
    "pycharm": {
     "is_executing": false,
     "name": "#%%\n"
    }
   },
   "outputs": [
    {
     "data": {
      "text/plain": "<Figure size 432x288 with 1 Axes>",
      "image/png": "[encoded data removed]"
     },
     "metadata": {
      "needs_background": "light"
     },
     "output_type": "display_data"
    }
   ],
   "source": [
    "# 逻辑回归（判断‘是’与‘否’的关系）\n",
    "import tensorflow as tf\n",
    "import matplotlib.pyplot as plt\n",
    "import numpy as np\n",
    "# 声明数据和标签\n",
    "data=[]\n",
    "label=[]\n",
    "np.random.seed(0)\n",
    "# 随机产生训练集\n",
    "for i in range(150):\n",
    "    x1=np.random.uniform(-1,1)\n",
    "    x2=np.random.uniform(0,2)\n",
    "    if x1*2+x2<=2:\n",
    "        data.append([np.random.normal(x1,0.1),np.random.normal(x2,0.1)])\n",
    "        label.append(0)\n",
    "        plt.plot(data[i][0],data[i][1],'go')\n",
    "    else:\n",
    "        data.append([np.random.normal(x1,0.1),np.random.normal(x2,0.1)])\n",
    "        label.append(1)\n",
    "        plt.plot(data[i][0],data[i][1],'r*')\n",
    "# 绘制图像\n",
    "data=np.hstack(data).reshape(-1,2)\n",
    "label=np.hstack(label).reshape(-1,1)\n",
    "plt.show()"
   ]
  },
  {
   "cell_type": "markdown",
   "source": [
    "逻辑回归使用sigmoid函数，损失函数为预测值与真实值的切合程度，对其求平均值。"
   ],
   "metadata": {
    "collapsed": false,
    "pycharm": {
     "name": "#%% md\n"
    }
   }
  },
  {
   "cell_type": "code",
   "execution_count": 3,
   "outputs": [],
   "source": [
    "# 定义变量\n",
    "x=tf.placeholder(tf.float32,shape=(None,2))\n",
    "y_=tf.placeholder(tf.float32,shape=(None,1))\n",
    "W=tf.Variable(tf.zeros([2,1]))\n",
    "b=tf.Variable(tf.zeros([1]))\n",
    "# 逻辑回归模型\n",
    "y=tf.sigmoid(tf.matmul(x,W)+b)\n",
    "# 计算损失\n",
    "sample_size=len(data)\n",
    "cross_entropy=-tf.reduce_sum(y_*tf.log(y)+(1-y_)*tf.log(1-y))/sample_size\n",
    "# 训练模型\n",
    "learning_rate=0.01\n",
    "cost_prev=0\n",
    "train_step=tf.train.GradientDescentOptimizer(learning_rate).minimize(cross_entropy)\n",
    "init=tf.global_variables_initializer()"
   ],
   "metadata": {
    "collapsed": false,
    "pycharm": {
     "name": "#%%\n",
     "is_executing": false
    }
   }
  },
  {
   "cell_type": "code",
   "execution_count": 5,
   "outputs": [
    {
     "name": "stdout",
     "text": [
      "0 [array([[ 0.00174148],\n       [-0.00151838]], dtype=float32), array([-0.00253333], dtype=float32), 0.6919739]\n",
      "2000 [array([[1.8818088 ],\n       [0.38590872]], dtype=float32), array([-1.4758188], dtype=float32), 0.32219347]\n",
      "4000 [array([[2.6484437 ],\n       [0.83563876]], dtype=float32), array([-2.2362044], dtype=float32), 0.25254238]\n",
      "6000 [array([[3.1281621],\n       [1.1744515]], dtype=float32), array([-2.8106453], dtype=float32), 0.21857311]\n",
      "8000 [array([[3.4874675],\n       [1.4471513]], dtype=float32), array([-3.274083], dtype=float32), 0.19758797]\n",
      "10000 [array([[3.781873 ],\n       [1.6744869]], dtype=float32), array([-3.663063], dtype=float32), 0.18307295]\n",
      "12000 [array([[4.035457 ],\n       [1.8688177]], dtype=float32), array([-3.998576], dtype=float32), 0.17232466]\n",
      "14000 [array([[4.26054 ],\n       [2.038229]], dtype=float32), array([-4.293884], dtype=float32), 0.16398671]\n",
      "16000 [array([[4.46425  ],\n       [2.1882827]], dtype=float32), array([-4.5579157], dtype=float32), 0.15729451]\n",
      "18000 [array([[4.651093 ],\n       [2.3229454]], dtype=float32), array([-4.7969484], dtype=float32), 0.15178166]\n",
      "20000 [array([[4.8241334],\n       [2.4451213]], dtype=float32), array([-5.0155573], dtype=float32), 0.147146]\n",
      "22000 [array([[4.985588 ],\n       [2.5569932]], dtype=float32), array([-5.2171803], dtype=float32), 0.14318243]\n",
      "24000 [array([[5.1371164],\n       [2.6602342]], dtype=float32), array([-5.404437], dtype=float32), 0.13974677]\n",
      "26000 [array([[5.2800198],\n       [2.7561374]], dtype=float32), array([-5.579399], dtype=float32), 0.13673414]\n",
      "28000 [array([[5.4153237],\n       [2.845744 ]], dtype=float32), array([-5.743707], dtype=float32), 0.13406652]\n",
      "30000 [array([[5.543899 ],\n       [2.9298809]], dtype=float32), array([-5.8986964], dtype=float32), 0.13168424]\n"
     ],
     "output_type": "stream"
    }
   ],
   "source": [
    "# 进行训练数据\n",
    "with tf.Session() as sess:\n",
    "    sess.run(init)\n",
    "    for i in range(40001):\n",
    "        sess.run(train_step,feed_dict={x:data,y_:label})\n",
    "        train_cost=sess.run(cross_entropy,feed_dict={x:data,y_:label})\n",
    "        if np.abs(cost_prev-train_cost) < 1e-6:\n",
    "            break;\n",
    "        cost_prev=train_cost\n",
    "        if i% 2000==0:\n",
    "            print(i,sess.run([W,b,cross_entropy],{x:data,y_:label}))\n",
    "    # 记录最终的w和b\n",
    "    W_val=sess.run(W)\n",
    "    b_val=sess.run(b)\n",
    "    sess.close()\n"
   ],
   "metadata": {
    "collapsed": false,
    "pycharm": {
     "name": "#%%\n",
     "is_executing": false
    }
   }
  },
  {
   "cell_type": "code",
   "execution_count": 13,
   "outputs": [
    {
     "data": {
      "text/plain": "<Figure size 432x288 with 1 Axes>",
      "image/png": "[encoded data removed]"
     },
     "metadata": {
      "needs_background": "light"
     },
     "output_type": "display_data"
    }
   ],
   "source": [
    "# 运行总结\n",
    "w1=W_val[0][0]\n",
    "w2=W_val[1][0]\n",
    "k=-w1/w2\n",
    "b=-b_val/w2\n",
    "xx=np.linspace(-1,1.2,100)\n",
    "yy=k*xx+b\n",
    "plt.plot(xx,yy,'r-')\n",
    "for i in range(150):\n",
    "    if label[i]==0:\n",
    "        plt.plot(data[i][0],data[i][1],\"go\")\n",
    "    else:\n",
    "        plt.plot(data[i][0],data[i][1],\"b*\")\n",
    "plt.show()\n"
   ],
   "metadata": {
    "collapsed": false,
    "pycharm": {
     "name": "#%%\n",
     "is_executing": false
    }
   }
  }
 ],
 "metadata": {
  "language_info": {
   "codemirror_mode": {
    "name": "ipython",
    "version": 2
   },
   "file_extension": ".py",
   "mimetype": "text/x-python",
   "name": "python",
   "nbconvert_exporter": "python",
   "pygments_lexer": "ipython2",
   "version": "2.7.6"
  },
  "kernelspec": {
   "name": "python3",
   "language": "python",
   "display_name": "Python 3"
  },
  "pycharm": {
   "stem_cell": {
    "cell_type": "raw",
    "source": [],
    "metadata": {
     "collapsed": false
    }
   }
  }
 },
 "nbformat": 4,
 "nbformat_minor": 0
}